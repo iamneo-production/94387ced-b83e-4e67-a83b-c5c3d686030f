{
 "cells": [
  {
   "cell_type": "code",
   "execution_count": 1,
   "metadata": {},
   "outputs": [],
   "source": [
    "locations = [\n",
    "    \"Balanagar , CITD office \",\n",
    "    \"Uppal, Modern food Industry, IDA\",\n",
    "    \"Jubilee Hills, Police station\",\n",
    "    \"Paradise, HMWS &SB Pump house \",\n",
    "    \"Charminar, TSRTC bus station \",\n",
    "    \"Jeedimetla, Industrial Association building\",\n",
    "    \"Buddha Purnima Project office, Tank Bund\",\n",
    "    \"MGBS, Bus stand \",\n",
    "    \"Chikkadapally, Lepakshi Emporium \",\n",
    "    \"Langar House, Police Station \",\n",
    "    \"Madhapur, Shilpa Kalavedika \",\n",
    "    \"Shameerpet, MRO office\",\n",
    "    \"Kukatpally, JNTU\",\n",
    "    \"Sainikpuri,  MRO office \",\n",
    "    \"Rajendranagar, NG Ranga Agricultural University \",\n",
    "    \"Nacharam, Police station \",\n",
    "    \"Abids, Police station \",\n",
    "    \"KBRN Park, DFO office \",\n",
    "    \"HCU\",\n",
    "    \"Sanathnagar\",\n",
    "    \"Zoopark\",\n",
    "    \"Pashamylaram\",\n",
    "    \"Bollaram, CAAQMS\",\n",
    "    \"ICRISAT\",\n",
    "    \"ECIL\",\n",
    "    \"Nacharam\",\n",
    "    \"Malakpet louis\",\n",
    "    \"Khairthabad RTA\",\n",
    "    \"Komaplly\",\n",
    "    \"Kokapet\",\n",
    "    \"Sympony Park\",\n",
    "    \"IITH \",\n",
    "    \"R.C.Puram, Medak\",\n",
    "    \"Bollaram, Sangareddy (SAAQM)\",\n",
    "    \"Sangareddy, Medak\",\n",
    "    \"PETL, Sangareddy (SAAQM)\",\n",
    "    \"Gaddapotharam, Medak\",\n",
    "    \"Nalgonda, RO Building, Nalgonda\",\n",
    "    \"Choutuppal, Nalgonda\",\n",
    "    \"Marketing Office Building, Beat Market, Hyd Road Nalgonda\",\n",
    "    \"Subhasnagar,  Nizamabad\",\n",
    "    \"Mandamarri, Adilabad\",\n",
    "    \"KUDA, Warangal \",\n",
    "    \"Mee-Seva, Warangal \",\n",
    "    \"Balasamudram, Hanmakonda (SAAQM)\",\n",
    "    \"Nakkalagutta, Hanmakonda (SAAQM)\",\n",
    "    \"Godavarikhani, Karimnagar\",\n",
    "    \"DIC building, Karimnagar\",\n",
    "    \"CER Club, Kothagudem\",\n",
    "    \"Jalasouda, Khammam \",\n",
    "    \"Kothur, Mahaboobnagar\",\n",
    "]"
   ]
  },
  {
   "cell_type": "code",
   "execution_count": 3,
   "metadata": {},
   "outputs": [
    {
     "data": {
      "text/plain": [
       "51"
      ]
     },
     "execution_count": 3,
     "metadata": {},
     "output_type": "execute_result"
    }
   ],
   "source": [
    "len(locations)"
   ]
  },
  {
   "cell_type": "code",
   "execution_count": 10,
   "metadata": {},
   "outputs": [],
   "source": [
    "import re"
   ]
  },
  {
   "cell_type": "code",
   "execution_count": 36,
   "metadata": {},
   "outputs": [],
   "source": [
    "from geopy.geocoders import GoogleV3,Bing,Yandex,GeoNames,Nominatim"
   ]
  },
  {
   "cell_type": "code",
   "execution_count": 61,
   "metadata": {},
   "outputs": [],
   "source": [
    "geo_locator = Nominatim(user_agent=\"hello\")\n",
    "# geo_locator = GeoNames(username=\"livinnector2001\",user_agent=\"hello\")"
   ]
  },
  {
   "cell_type": "code",
   "execution_count": 62,
   "metadata": {},
   "outputs": [
    {
     "name": "stdout",
     "output_type": "stream",
     "text": [
      "Balanagar , CITD office  18.0018724 78.2873322\n",
      "Uppal, Modern food Industry, IDA 17.4025091 78.5612562\n",
      "Jubilee Hills, Police station 17.4308362 78.4102882\n",
      "Paradise, HMWS &SB Pump house  17.4931834 78.4044261\n",
      "Charminar, TSRTC bus station  17.361602400000002 78.47464213773966\n",
      "Jeedimetla, Industrial Association building 17.5086643 78.4773123\n",
      "Buddha Purnima Project office, Tank Bund 18.1668644 78.9028611\n",
      "MGBS, Bus stand  17.3782873 78.4846061748679\n",
      "Chikkadapally, Lepakshi Emporium  17.4036533 78.4954675\n",
      "Langar House, Police Station  17.5297092 78.264711\n",
      "Madhapur, Shilpa Kalavedika  17.4408924 78.3916304\n",
      "Shameerpet, MRO office 17.2508944 80.1371028\n",
      "Kukatpally, JNTU 17.4910286 78.39312441675872\n",
      "Sainikpuri,  MRO office  17.4892154 78.5424889\n",
      "Rajendranagar, NG Ranga Agricultural University  17.321809950000002 78.41138652159145\n",
      "Nacharam, Police station  17.8231821 78.5361528\n",
      "Abids, Police station  17.3894783 78.477182\n",
      "KBRN Park, DFO office  Not Found\n",
      "HCU 17.4623917 78.3351475\n",
      "Sanathnagar 17.4569654 78.4434780636594\n",
      "Zoopark Not Found\n",
      "Pashamylaram 17.5279026 78.1900123\n",
      "Bollaram, CAAQMS 18.1609088 78.0699201\n",
      "ICRISAT 17.511247400000002 78.27660449703919\n",
      "ECIL 17.4727888 78.5705457\n",
      "Nacharam 17.8231821 78.5361528\n",
      "Malakpet louis Not Found\n",
      "Khairthabad RTA Not Found\n",
      "Komaplly Not Found\n",
      "Kokapet 17.3948624 78.3365214\n",
      "Sympony Park Not Found\n",
      "IITH  17.5938609 78.1252899\n",
      "R.C.Puram, Medak 17.9375095 78.21174498510584\n",
      "Bollaram, Sangareddy (SAAQM) 18.1609088 78.0699201\n",
      "Sangareddy, Medak 17.86859205 77.8228199507381\n",
      "PETL, Sangareddy (SAAQM) Not Found\n",
      "Gaddapotharam, Medak 17.6059354 78.3755356\n",
      "Nalgonda, RO Building, Nalgonda 16.8579636 79.21749353315548\n",
      "Choutuppal, Nalgonda 17.2526027 78.8964038\n",
      "Marketing Office Building, Beat Market, Hyd Road Nalgonda Not Found\n",
      "Subhasnagar,  Nizamabad 18.75 78.25\n",
      "Mandamarri, Adilabad 18.9952733 79.4694141\n",
      "KUDA, Warangal  18.0065626 79.5650556\n",
      "Mee-Seva, Warangal  17.7985721 79.761444\n",
      "Balasamudram, Hanmakonda (SAAQM) 18.0038061 79.56058710091615\n",
      "Nakkalagutta, Hanmakonda (SAAQM) 18.0021323 79.5565016\n",
      "Godavarikhani, Karimnagar 18.7568803 79.506108\n",
      "DIC building, Karimnagar 18.4348122 79.1328042\n",
      "CER Club, Kothagudem 18.862580649999998 79.48102936479377\n",
      "Jalasouda, Khammam  17.5 80.333333\n",
      "Kothur, Mahaboobnagar 18.9511847 79.6499512\n"
     ]
    }
   ],
   "source": [
    "for l in locations:\n",
    "    search_strs = [l+\" telangana\"]+[i+\" telangana\"  for i in l.split(\",\") ]\n",
    "    \n",
    "    for search_str in search_strs:\n",
    "        # print(\"search\",search_str)\n",
    "        geo_loc = geo_locator.geocode(search_str)\n",
    "        if geo_loc:\n",
    "            print(l,geo_loc.latitude,geo_loc.longitude)\n",
    "            break\n",
    "    else:\n",
    "        print(l,\"Not Found\")"
   ]
  },
  {
   "cell_type": "code",
   "execution_count": 63,
   "metadata": {},
   "outputs": [
    {
     "data": {
      "text/plain": [
       "Location(Zoo Park Main Road, Bahadurpura, Ward 56 Kishanbagh, Greater Hyderabad Municipal Corporation South Zone, Hyderabad, Bahadurpura mandal, Hyderabad, Telangana, 500064, India, (17.3563393, 78.4540505, 0.0))"
      ]
     },
     "execution_count": 63,
     "metadata": {},
     "output_type": "execute_result"
    }
   ],
   "source": [
    "geo_locator.geocode(\"Zoo park telangana\")"
   ]
  },
  {
   "cell_type": "code",
   "execution_count": 72,
   "metadata": {},
   "outputs": [],
   "source": [
    "geo_locator.geocode(\"Sangareddy telangana\")\n",
    "geo_locator.geocode(\"Medek Sangareddy \")"
   ]
  },
  {
   "cell_type": "code",
   "execution_count": null,
   "metadata": {},
   "outputs": [],
   "source": []
  }
 ],
 "metadata": {
  "kernelspec": {
   "display_name": "ml",
   "language": "python",
   "name": "python3"
  },
  "language_info": {
   "codemirror_mode": {
    "name": "ipython",
    "version": 3
   },
   "file_extension": ".py",
   "mimetype": "text/x-python",
   "name": "python",
   "nbconvert_exporter": "python",
   "pygments_lexer": "ipython3",
   "version": "3.10.4"
  },
  "orig_nbformat": 4,
  "vscode": {
   "interpreter": {
    "hash": "4fd501de100fc151db62ff361c8a5d71a9c082bee3f35079a5b6db60799211dc"
   }
  }
 },
 "nbformat": 4,
 "nbformat_minor": 2
}
